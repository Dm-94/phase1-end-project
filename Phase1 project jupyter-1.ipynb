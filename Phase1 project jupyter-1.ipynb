{
 "cells": [
  {
   "cell_type": "markdown",
   "id": "3fbe2e5c",
   "metadata": {},
   "source": [
    " # Project: NTSB Aviation Accident Data Analysis"
   ]
  },
  {
   "cell_type": "markdown",
   "id": "a3b2b073",
   "metadata": {},
   "source": [
    "# 1.0 Importing Pandas,numpy,matplotlib and sns"
   ]
  },
  {
   "cell_type": "code",
   "execution_count": 2,
   "id": "2e51d5ab",
   "metadata": {},
   "outputs": [],
   "source": [
    "#importing pandas to read csv file from kaggle data and numpy for statistical purposes\n",
    "import pandas as pd\n",
    "import numpy as np \n",
    "import matplotlib.pyplot as plt\n",
    "import seaborn as sns"
   ]
  },
  {
   "cell_type": "markdown",
   "id": "378c11b5",
   "metadata": {},
   "source": [
    "# 1.1 Loading the AviationData.csv into Pandas Dataframe"
   ]
  },
  {
   "cell_type": "code",
   "execution_count": 3,
   "id": "acd0f813",
   "metadata": {},
   "outputs": [
    {
     "data": {
      "text/html": [
       "<div>\n",
       "<style scoped>\n",
       "    .dataframe tbody tr th:only-of-type {\n",
       "        vertical-align: middle;\n",
       "    }\n",
       "\n",
       "    .dataframe tbody tr th {\n",
       "        vertical-align: top;\n",
       "    }\n",
       "\n",
       "    .dataframe thead th {\n",
       "        text-align: right;\n",
       "    }\n",
       "</style>\n",
       "<table border=\"1\" class=\"dataframe\">\n",
       "  <thead>\n",
       "    <tr style=\"text-align: right;\">\n",
       "      <th></th>\n",
       "      <th>Event.Id</th>\n",
       "      <th>Investigation.Type</th>\n",
       "      <th>Accident.Number</th>\n",
       "      <th>Event.Date</th>\n",
       "      <th>Location</th>\n",
       "      <th>Country</th>\n",
       "      <th>Latitude</th>\n",
       "      <th>Longitude</th>\n",
       "      <th>Airport.Code</th>\n",
       "      <th>Airport.Name</th>\n",
       "      <th>...</th>\n",
       "      <th>Purpose.of.flight</th>\n",
       "      <th>Air.carrier</th>\n",
       "      <th>Total.Fatal.Injuries</th>\n",
       "      <th>Total.Serious.Injuries</th>\n",
       "      <th>Total.Minor.Injuries</th>\n",
       "      <th>Total.Uninjured</th>\n",
       "      <th>Weather.Condition</th>\n",
       "      <th>Broad.phase.of.flight</th>\n",
       "      <th>Report.Status</th>\n",
       "      <th>Publication.Date</th>\n",
       "    </tr>\n",
       "  </thead>\n",
       "  <tbody>\n",
       "    <tr>\n",
       "      <th>0</th>\n",
       "      <td>20001218X45444</td>\n",
       "      <td>Accident</td>\n",
       "      <td>SEA87LA080</td>\n",
       "      <td>1948-10-24</td>\n",
       "      <td>MOOSE CREEK, ID</td>\n",
       "      <td>United States</td>\n",
       "      <td>NaN</td>\n",
       "      <td>NaN</td>\n",
       "      <td>NaN</td>\n",
       "      <td>NaN</td>\n",
       "      <td>...</td>\n",
       "      <td>Personal</td>\n",
       "      <td>NaN</td>\n",
       "      <td>2.0</td>\n",
       "      <td>0.0</td>\n",
       "      <td>0.0</td>\n",
       "      <td>0.0</td>\n",
       "      <td>UNK</td>\n",
       "      <td>Cruise</td>\n",
       "      <td>Probable Cause</td>\n",
       "      <td>NaN</td>\n",
       "    </tr>\n",
       "    <tr>\n",
       "      <th>1</th>\n",
       "      <td>20001218X45447</td>\n",
       "      <td>Accident</td>\n",
       "      <td>LAX94LA336</td>\n",
       "      <td>1962-07-19</td>\n",
       "      <td>BRIDGEPORT, CA</td>\n",
       "      <td>United States</td>\n",
       "      <td>NaN</td>\n",
       "      <td>NaN</td>\n",
       "      <td>NaN</td>\n",
       "      <td>NaN</td>\n",
       "      <td>...</td>\n",
       "      <td>Personal</td>\n",
       "      <td>NaN</td>\n",
       "      <td>4.0</td>\n",
       "      <td>0.0</td>\n",
       "      <td>0.0</td>\n",
       "      <td>0.0</td>\n",
       "      <td>UNK</td>\n",
       "      <td>Unknown</td>\n",
       "      <td>Probable Cause</td>\n",
       "      <td>19-09-1996</td>\n",
       "    </tr>\n",
       "    <tr>\n",
       "      <th>2</th>\n",
       "      <td>20061025X01555</td>\n",
       "      <td>Accident</td>\n",
       "      <td>NYC07LA005</td>\n",
       "      <td>1974-08-30</td>\n",
       "      <td>Saltville, VA</td>\n",
       "      <td>United States</td>\n",
       "      <td>36.922223</td>\n",
       "      <td>-81.878056</td>\n",
       "      <td>NaN</td>\n",
       "      <td>NaN</td>\n",
       "      <td>...</td>\n",
       "      <td>Personal</td>\n",
       "      <td>NaN</td>\n",
       "      <td>3.0</td>\n",
       "      <td>NaN</td>\n",
       "      <td>NaN</td>\n",
       "      <td>NaN</td>\n",
       "      <td>IMC</td>\n",
       "      <td>Cruise</td>\n",
       "      <td>Probable Cause</td>\n",
       "      <td>26-02-2007</td>\n",
       "    </tr>\n",
       "    <tr>\n",
       "      <th>3</th>\n",
       "      <td>20001218X45448</td>\n",
       "      <td>Accident</td>\n",
       "      <td>LAX96LA321</td>\n",
       "      <td>1977-06-19</td>\n",
       "      <td>EUREKA, CA</td>\n",
       "      <td>United States</td>\n",
       "      <td>NaN</td>\n",
       "      <td>NaN</td>\n",
       "      <td>NaN</td>\n",
       "      <td>NaN</td>\n",
       "      <td>...</td>\n",
       "      <td>Personal</td>\n",
       "      <td>NaN</td>\n",
       "      <td>2.0</td>\n",
       "      <td>0.0</td>\n",
       "      <td>0.0</td>\n",
       "      <td>0.0</td>\n",
       "      <td>IMC</td>\n",
       "      <td>Cruise</td>\n",
       "      <td>Probable Cause</td>\n",
       "      <td>12-09-2000</td>\n",
       "    </tr>\n",
       "    <tr>\n",
       "      <th>4</th>\n",
       "      <td>20041105X01764</td>\n",
       "      <td>Accident</td>\n",
       "      <td>CHI79FA064</td>\n",
       "      <td>1979-08-02</td>\n",
       "      <td>Canton, OH</td>\n",
       "      <td>United States</td>\n",
       "      <td>NaN</td>\n",
       "      <td>NaN</td>\n",
       "      <td>NaN</td>\n",
       "      <td>NaN</td>\n",
       "      <td>...</td>\n",
       "      <td>Personal</td>\n",
       "      <td>NaN</td>\n",
       "      <td>1.0</td>\n",
       "      <td>2.0</td>\n",
       "      <td>NaN</td>\n",
       "      <td>0.0</td>\n",
       "      <td>VMC</td>\n",
       "      <td>Approach</td>\n",
       "      <td>Probable Cause</td>\n",
       "      <td>16-04-1980</td>\n",
       "    </tr>\n",
       "  </tbody>\n",
       "</table>\n",
       "<p>5 rows × 31 columns</p>\n",
       "</div>"
      ],
      "text/plain": [
       "         Event.Id Investigation.Type Accident.Number  Event.Date  \\\n",
       "0  20001218X45444           Accident      SEA87LA080  1948-10-24   \n",
       "1  20001218X45447           Accident      LAX94LA336  1962-07-19   \n",
       "2  20061025X01555           Accident      NYC07LA005  1974-08-30   \n",
       "3  20001218X45448           Accident      LAX96LA321  1977-06-19   \n",
       "4  20041105X01764           Accident      CHI79FA064  1979-08-02   \n",
       "\n",
       "          Location        Country   Latitude   Longitude Airport.Code  \\\n",
       "0  MOOSE CREEK, ID  United States        NaN         NaN          NaN   \n",
       "1   BRIDGEPORT, CA  United States        NaN         NaN          NaN   \n",
       "2    Saltville, VA  United States  36.922223  -81.878056          NaN   \n",
       "3       EUREKA, CA  United States        NaN         NaN          NaN   \n",
       "4       Canton, OH  United States        NaN         NaN          NaN   \n",
       "\n",
       "  Airport.Name  ... Purpose.of.flight Air.carrier Total.Fatal.Injuries  \\\n",
       "0          NaN  ...          Personal         NaN                  2.0   \n",
       "1          NaN  ...          Personal         NaN                  4.0   \n",
       "2          NaN  ...          Personal         NaN                  3.0   \n",
       "3          NaN  ...          Personal         NaN                  2.0   \n",
       "4          NaN  ...          Personal         NaN                  1.0   \n",
       "\n",
       "  Total.Serious.Injuries Total.Minor.Injuries Total.Uninjured  \\\n",
       "0                    0.0                  0.0             0.0   \n",
       "1                    0.0                  0.0             0.0   \n",
       "2                    NaN                  NaN             NaN   \n",
       "3                    0.0                  0.0             0.0   \n",
       "4                    2.0                  NaN             0.0   \n",
       "\n",
       "  Weather.Condition  Broad.phase.of.flight   Report.Status Publication.Date  \n",
       "0               UNK                 Cruise  Probable Cause              NaN  \n",
       "1               UNK                Unknown  Probable Cause       19-09-1996  \n",
       "2               IMC                 Cruise  Probable Cause       26-02-2007  \n",
       "3               IMC                 Cruise  Probable Cause       12-09-2000  \n",
       "4               VMC               Approach  Probable Cause       16-04-1980  \n",
       "\n",
       "[5 rows x 31 columns]"
      ]
     },
     "execution_count": 3,
     "metadata": {},
     "output_type": "execute_result"
    }
   ],
   "source": [
    "# Reading `AviationData.csv` into a pandas DataFrame named `df`\n",
    "df = pd.read_csv('AviationData.csv', encoding='ISO -8859-1', low_memory=False)\n",
    "#checking the first five rows\n",
    "df.head()"
   ]
  },
  {
   "cell_type": "markdown",
   "id": "cb1fee0c",
   "metadata": {},
   "source": [
    "# 1.2 Exploratory Data Analysis"
   ]
  },
  {
   "cell_type": "code",
   "execution_count": 4,
   "id": "4043a6f1",
   "metadata": {},
   "outputs": [
    {
     "data": {
      "text/plain": [
       "Index(['Event.Id', 'Investigation.Type', 'Accident.Number', 'Event.Date',\n",
       "       'Location', 'Country', 'Latitude', 'Longitude', 'Airport.Code',\n",
       "       'Airport.Name', 'Injury.Severity', 'Aircraft.damage',\n",
       "       'Aircraft.Category', 'Registration.Number', 'Make', 'Model',\n",
       "       'Amateur.Built', 'Number.of.Engines', 'Engine.Type', 'FAR.Description',\n",
       "       'Schedule', 'Purpose.of.flight', 'Air.carrier', 'Total.Fatal.Injuries',\n",
       "       'Total.Serious.Injuries', 'Total.Minor.Injuries', 'Total.Uninjured',\n",
       "       'Weather.Condition', 'Broad.phase.of.flight', 'Report.Status',\n",
       "       'Publication.Date'],\n",
       "      dtype='object')"
      ]
     },
     "execution_count": 4,
     "metadata": {},
     "output_type": "execute_result"
    }
   ],
   "source": [
    "#checking the columns in the aviation dataset\n",
    "df.columns"
   ]
  },
  {
   "cell_type": "code",
   "execution_count": 5,
   "id": "a6c343ab",
   "metadata": {},
   "outputs": [
    {
     "data": {
      "text/plain": [
       "(88889, 31)"
      ]
     },
     "execution_count": 5,
     "metadata": {},
     "output_type": "execute_result"
    }
   ],
   "source": [
    "df.shape"
   ]
  },
  {
   "cell_type": "code",
   "execution_count": 6,
   "id": "f57cee6a",
   "metadata": {},
   "outputs": [],
   "source": [
    "# changing event date to date time and setting my years of analysis between 1980 and 2022\n",
    "df['Event.Date'] = pd.to_datetime(df['Event.Date'], errors='coerce')\n",
    "df = df[df['Event.Date'].dt.year.between(1980, 2022)]"
   ]
  },
  {
   "cell_type": "code",
   "execution_count": 7,
   "id": "d8c17f6a",
   "metadata": {},
   "outputs": [
    {
     "name": "stdout",
     "output_type": "stream",
     "text": [
      "<class 'pandas.core.frame.DataFrame'>\n",
      "Index: 88883 entries, 6 to 88888\n",
      "Data columns (total 31 columns):\n",
      " #   Column                  Non-Null Count  Dtype         \n",
      "---  ------                  --------------  -----         \n",
      " 0   Event.Id                88883 non-null  object        \n",
      " 1   Investigation.Type      88883 non-null  object        \n",
      " 2   Accident.Number         88883 non-null  object        \n",
      " 3   Event.Date              88883 non-null  datetime64[ns]\n",
      " 4   Location                88831 non-null  object        \n",
      " 5   Country                 88657 non-null  object        \n",
      " 6   Latitude                34380 non-null  object        \n",
      " 7   Longitude               34371 non-null  object        \n",
      " 8   Airport.Code            50132 non-null  object        \n",
      " 9   Airport.Name            52704 non-null  object        \n",
      " 10  Injury.Severity         87883 non-null  object        \n",
      " 11  Aircraft.damage         85689 non-null  object        \n",
      " 12  Aircraft.Category       32286 non-null  object        \n",
      " 13  Registration.Number     87501 non-null  object        \n",
      " 14  Make                    88820 non-null  object        \n",
      " 15  Model                   88791 non-null  object        \n",
      " 16  Amateur.Built           88781 non-null  object        \n",
      " 17  Number.of.Engines       82800 non-null  float64       \n",
      " 18  Engine.Type             81788 non-null  object        \n",
      " 19  FAR.Description         32022 non-null  object        \n",
      " 20  Schedule                12581 non-null  object        \n",
      " 21  Purpose.of.flight       82692 non-null  object        \n",
      " 22  Air.carrier             16647 non-null  object        \n",
      " 23  Total.Fatal.Injuries    77483 non-null  float64       \n",
      " 24  Total.Serious.Injuries  76375 non-null  float64       \n",
      " 25  Total.Minor.Injuries    76952 non-null  float64       \n",
      " 26  Total.Uninjured         82972 non-null  float64       \n",
      " 27  Weather.Condition       84391 non-null  object        \n",
      " 28  Broad.phase.of.flight   61718 non-null  object        \n",
      " 29  Report.Status           82499 non-null  object        \n",
      " 30  Publication.Date        75113 non-null  object        \n",
      "dtypes: datetime64[ns](1), float64(5), object(25)\n",
      "memory usage: 21.7+ MB\n"
     ]
    }
   ],
   "source": [
    "#Getting an overview of the data to get information on which columns to drop by checking the Non null count\n",
    "df.info()"
   ]
  },
  {
   "cell_type": "markdown",
   "id": "affc961f",
   "metadata": {},
   "source": [
    "## 1.2.0 selecting the columns relevant to the analysis of my business problem"
   ]
  },
  {
   "cell_type": "code",
   "execution_count": 8,
   "id": "8d8a0591",
   "metadata": {},
   "outputs": [
    {
     "data": {
      "text/plain": [
       "15"
      ]
     },
     "execution_count": 8,
     "metadata": {},
     "output_type": "execute_result"
    }
   ],
   "source": [
    "# keeping the relevant columns for risk analysis and checking the length of the list\n",
    "columns_to_keep = ['Country','Event.Date','Weather.Condition','Broad.phase.of.flight','Injury.Severity', 'Aircraft.Category','Aircraft.damage','Make', 'Model','Number.of.Engines', 'Engine.Type','Total.Fatal.Injuries',\n",
    "       'Total.Serious.Injuries', 'Total.Minor.Injuries', 'Total.Uninjured',\n",
    "       ]\n",
    "len(columns_to_keep)"
   ]
  },
  {
   "cell_type": "code",
   "execution_count": 9,
   "id": "bff1142f",
   "metadata": {},
   "outputs": [
    {
     "data": {
      "text/html": [
       "<div>\n",
       "<style scoped>\n",
       "    .dataframe tbody tr th:only-of-type {\n",
       "        vertical-align: middle;\n",
       "    }\n",
       "\n",
       "    .dataframe tbody tr th {\n",
       "        vertical-align: top;\n",
       "    }\n",
       "\n",
       "    .dataframe thead th {\n",
       "        text-align: right;\n",
       "    }\n",
       "</style>\n",
       "<table border=\"1\" class=\"dataframe\">\n",
       "  <thead>\n",
       "    <tr style=\"text-align: right;\">\n",
       "      <th></th>\n",
       "      <th>Country</th>\n",
       "      <th>Event.Date</th>\n",
       "      <th>Weather.Condition</th>\n",
       "      <th>Broad.phase.of.flight</th>\n",
       "      <th>Injury.Severity</th>\n",
       "      <th>Aircraft.Category</th>\n",
       "      <th>Aircraft.damage</th>\n",
       "      <th>Make</th>\n",
       "      <th>Model</th>\n",
       "      <th>Number.of.Engines</th>\n",
       "      <th>Engine.Type</th>\n",
       "      <th>Total.Fatal.Injuries</th>\n",
       "      <th>Total.Serious.Injuries</th>\n",
       "      <th>Total.Minor.Injuries</th>\n",
       "      <th>Total.Uninjured</th>\n",
       "    </tr>\n",
       "  </thead>\n",
       "  <tbody>\n",
       "    <tr>\n",
       "      <th>6</th>\n",
       "      <td>United States</td>\n",
       "      <td>1981-08-01</td>\n",
       "      <td>IMC</td>\n",
       "      <td>Unknown</td>\n",
       "      <td>Fatal(4)</td>\n",
       "      <td>NaN</td>\n",
       "      <td>Destroyed</td>\n",
       "      <td>Cessna</td>\n",
       "      <td>180</td>\n",
       "      <td>1.0</td>\n",
       "      <td>Reciprocating</td>\n",
       "      <td>4.0</td>\n",
       "      <td>0.0</td>\n",
       "      <td>0.0</td>\n",
       "      <td>0.0</td>\n",
       "    </tr>\n",
       "    <tr>\n",
       "      <th>7</th>\n",
       "      <td>United States</td>\n",
       "      <td>1982-01-01</td>\n",
       "      <td>VMC</td>\n",
       "      <td>Takeoff</td>\n",
       "      <td>Non-Fatal</td>\n",
       "      <td>Airplane</td>\n",
       "      <td>Substantial</td>\n",
       "      <td>Cessna</td>\n",
       "      <td>140</td>\n",
       "      <td>1.0</td>\n",
       "      <td>Reciprocating</td>\n",
       "      <td>0.0</td>\n",
       "      <td>0.0</td>\n",
       "      <td>0.0</td>\n",
       "      <td>2.0</td>\n",
       "    </tr>\n",
       "    <tr>\n",
       "      <th>8</th>\n",
       "      <td>United States</td>\n",
       "      <td>1982-01-01</td>\n",
       "      <td>IMC</td>\n",
       "      <td>Landing</td>\n",
       "      <td>Non-Fatal</td>\n",
       "      <td>Airplane</td>\n",
       "      <td>Substantial</td>\n",
       "      <td>Cessna</td>\n",
       "      <td>401B</td>\n",
       "      <td>2.0</td>\n",
       "      <td>Reciprocating</td>\n",
       "      <td>0.0</td>\n",
       "      <td>0.0</td>\n",
       "      <td>0.0</td>\n",
       "      <td>2.0</td>\n",
       "    </tr>\n",
       "    <tr>\n",
       "      <th>9</th>\n",
       "      <td>United States</td>\n",
       "      <td>1982-01-01</td>\n",
       "      <td>IMC</td>\n",
       "      <td>Cruise</td>\n",
       "      <td>Non-Fatal</td>\n",
       "      <td>NaN</td>\n",
       "      <td>Substantial</td>\n",
       "      <td>North American</td>\n",
       "      <td>NAVION L-17B</td>\n",
       "      <td>1.0</td>\n",
       "      <td>Reciprocating</td>\n",
       "      <td>0.0</td>\n",
       "      <td>0.0</td>\n",
       "      <td>3.0</td>\n",
       "      <td>0.0</td>\n",
       "    </tr>\n",
       "    <tr>\n",
       "      <th>10</th>\n",
       "      <td>United States</td>\n",
       "      <td>1982-01-01</td>\n",
       "      <td>VMC</td>\n",
       "      <td>Approach</td>\n",
       "      <td>Non-Fatal</td>\n",
       "      <td>NaN</td>\n",
       "      <td>Substantial</td>\n",
       "      <td>Piper</td>\n",
       "      <td>PA-28-161</td>\n",
       "      <td>1.0</td>\n",
       "      <td>Reciprocating</td>\n",
       "      <td>0.0</td>\n",
       "      <td>0.0</td>\n",
       "      <td>0.0</td>\n",
       "      <td>1.0</td>\n",
       "    </tr>\n",
       "  </tbody>\n",
       "</table>\n",
       "</div>"
      ],
      "text/plain": [
       "          Country Event.Date Weather.Condition Broad.phase.of.flight  \\\n",
       "6   United States 1981-08-01               IMC               Unknown   \n",
       "7   United States 1982-01-01               VMC               Takeoff   \n",
       "8   United States 1982-01-01               IMC               Landing   \n",
       "9   United States 1982-01-01               IMC                Cruise   \n",
       "10  United States 1982-01-01               VMC              Approach   \n",
       "\n",
       "   Injury.Severity Aircraft.Category Aircraft.damage            Make  \\\n",
       "6         Fatal(4)               NaN       Destroyed          Cessna   \n",
       "7        Non-Fatal          Airplane     Substantial          Cessna   \n",
       "8        Non-Fatal          Airplane     Substantial          Cessna   \n",
       "9        Non-Fatal               NaN     Substantial  North American   \n",
       "10       Non-Fatal               NaN     Substantial           Piper   \n",
       "\n",
       "           Model  Number.of.Engines    Engine.Type  Total.Fatal.Injuries  \\\n",
       "6            180                1.0  Reciprocating                   4.0   \n",
       "7            140                1.0  Reciprocating                   0.0   \n",
       "8           401B                2.0  Reciprocating                   0.0   \n",
       "9   NAVION L-17B                1.0  Reciprocating                   0.0   \n",
       "10     PA-28-161                1.0  Reciprocating                   0.0   \n",
       "\n",
       "    Total.Serious.Injuries  Total.Minor.Injuries  Total.Uninjured  \n",
       "6                      0.0                   0.0              0.0  \n",
       "7                      0.0                   0.0              2.0  \n",
       "8                      0.0                   0.0              2.0  \n",
       "9                      0.0                   3.0              0.0  \n",
       "10                     0.0                   0.0              1.0  "
      ]
     },
     "execution_count": 9,
     "metadata": {},
     "output_type": "execute_result"
    }
   ],
   "source": [
    "# creating a dataset of to use in the analysis\n",
    "df1= df[columns_to_keep]\n",
    "df1.head() #checking the first five rows"
   ]
  },
  {
   "cell_type": "code",
   "execution_count": 10,
   "id": "0d18bd2b",
   "metadata": {},
   "outputs": [
    {
     "data": {
      "text/plain": [
       "Country                    0.254267\n",
       "Event.Date                 0.000000\n",
       "Weather.Condition          5.053835\n",
       "Broad.phase.of.flight     30.562650\n",
       "Injury.Severity            1.125075\n",
       "Aircraft.Category         63.675844\n",
       "Aircraft.damage            3.593488\n",
       "Make                       0.070880\n",
       "Model                      0.103507\n",
       "Number.of.Engines          6.843828\n",
       "Engine.Type                7.982404\n",
       "Total.Fatal.Injuries      12.825850\n",
       "Total.Serious.Injuries    14.072432\n",
       "Total.Minor.Injuries      13.423264\n",
       "Total.Uninjured            6.650316\n",
       "dtype: float64"
      ]
     },
     "execution_count": 10,
     "metadata": {},
     "output_type": "execute_result"
    }
   ],
   "source": [
    "(df1.isna().sum()/len(df1))*100"
   ]
  },
  {
   "cell_type": "markdown",
   "id": "d16baa56",
   "metadata": {},
   "source": [
    "# 1.2.1 Filling the null values"
   ]
  },
  {
   "cell_type": "code",
   "execution_count": 11,
   "id": "dfa54729",
   "metadata": {},
   "outputs": [],
   "source": [
    "# Dropping null values in critical columns\n",
    "critical_columns = ['Event.Date','Weather.Condition','Total.Fatal.Injuries']\n",
    "df = df.dropna(subset = critical_columns)"
   ]
  },
  {
   "cell_type": "code",
   "execution_count": 12,
   "id": "14a586c0",
   "metadata": {},
   "outputs": [],
   "source": [
    "# Filling null values with 0 in numerical columns that dont need guessing\n",
    "Injury_columns =['Total.Serious.Injuries','Total.Minor.Injuries','Total.Uninjured']\n",
    "df[Injury_columns] = df[Injury_columns].fillna(0)"
   ]
  },
  {
   "cell_type": "code",
   "execution_count": 13,
   "id": "e9d0d771",
   "metadata": {},
   "outputs": [],
   "source": [
    "# filling categorical and null values with 0\n",
    "for col in df1.columns:\n",
    "    if df1[col].isnull().sum() > 0:  # Check if there are missing values\n",
    "        if df1[col].dtype == 'object':  # Categorical columns\n",
    "            df1[col] = df1[col].fillna('unknown')\n",
    "        else:  # Numerical columns\n",
    "            df1[col] = df1[col].fillna(0)"
   ]
  },
  {
   "cell_type": "code",
   "execution_count": 14,
   "id": "42331329",
   "metadata": {},
   "outputs": [
    {
     "data": {
      "text/plain": [
       "Country                   0\n",
       "Event.Date                0\n",
       "Weather.Condition         0\n",
       "Broad.phase.of.flight     0\n",
       "Injury.Severity           0\n",
       "Aircraft.Category         0\n",
       "Aircraft.damage           0\n",
       "Make                      0\n",
       "Model                     0\n",
       "Number.of.Engines         0\n",
       "Engine.Type               0\n",
       "Total.Fatal.Injuries      0\n",
       "Total.Serious.Injuries    0\n",
       "Total.Minor.Injuries      0\n",
       "Total.Uninjured           0\n",
       "dtype: int64"
      ]
     },
     "execution_count": 14,
     "metadata": {},
     "output_type": "execute_result"
    }
   ],
   "source": [
    "# checking for null value in the new dataset\n",
    "df1.isnull().sum()"
   ]
  },
  {
   "cell_type": "code",
   "execution_count": 15,
   "id": "2126a466",
   "metadata": {},
   "outputs": [],
   "source": [
    "#Standardizing the weather condition\n",
    "df1['Weather.Condition'] = df1['Weather.Condition'].str.upper()\n"
   ]
  },
  {
   "cell_type": "code",
   "execution_count": 16,
   "id": "ac73df61",
   "metadata": {},
   "outputs": [],
   "source": [
    "# assign accident to 1 for purposes of count\n",
    "df1['Accident.Number'] = 1"
   ]
  },
  {
   "cell_type": "markdown",
   "id": "e64b9159",
   "metadata": {},
   "source": [
    "### 1.2.2 Dropping Duplicates"
   ]
  },
  {
   "cell_type": "code",
   "execution_count": 17,
   "id": "a5fbbe61",
   "metadata": {},
   "outputs": [
    {
     "data": {
      "text/plain": [
       "6        False\n",
       "7        False\n",
       "8        False\n",
       "9        False\n",
       "10       False\n",
       "         ...  \n",
       "88884    False\n",
       "88885    False\n",
       "88886    False\n",
       "88887    False\n",
       "88888    False\n",
       "Length: 88883, dtype: bool"
      ]
     },
     "execution_count": 17,
     "metadata": {},
     "output_type": "execute_result"
    }
   ],
   "source": [
    "df1.duplicated()"
   ]
  },
  {
   "cell_type": "code",
   "execution_count": 37,
   "id": "05f72e37",
   "metadata": {},
   "outputs": [
    {
     "data": {
      "text/html": [
       "<div>\n",
       "<style scoped>\n",
       "    .dataframe tbody tr th:only-of-type {\n",
       "        vertical-align: middle;\n",
       "    }\n",
       "\n",
       "    .dataframe tbody tr th {\n",
       "        vertical-align: top;\n",
       "    }\n",
       "\n",
       "    .dataframe thead th {\n",
       "        text-align: right;\n",
       "    }\n",
       "</style>\n",
       "<table border=\"1\" class=\"dataframe\">\n",
       "  <thead>\n",
       "    <tr style=\"text-align: right;\">\n",
       "      <th></th>\n",
       "      <th>Country</th>\n",
       "      <th>Event.Date</th>\n",
       "      <th>Weather.Condition</th>\n",
       "      <th>Broad.phase.of.flight</th>\n",
       "      <th>Injury.Severity</th>\n",
       "      <th>Aircraft.Category</th>\n",
       "      <th>Aircraft.damage</th>\n",
       "      <th>Make</th>\n",
       "      <th>Model</th>\n",
       "      <th>Number.of.Engines</th>\n",
       "      <th>Engine.Type</th>\n",
       "      <th>Total.Fatal.Injuries</th>\n",
       "      <th>Total.Serious.Injuries</th>\n",
       "      <th>Total.Minor.Injuries</th>\n",
       "      <th>Total.Uninjured</th>\n",
       "      <th>Accident.Number</th>\n",
       "      <th>Year</th>\n",
       "    </tr>\n",
       "  </thead>\n",
       "  <tbody>\n",
       "    <tr>\n",
       "      <th>6</th>\n",
       "      <td>United States</td>\n",
       "      <td>1981-08-01</td>\n",
       "      <td>IMC</td>\n",
       "      <td>Unknown</td>\n",
       "      <td>Fatal(4)</td>\n",
       "      <td>unknown</td>\n",
       "      <td>Destroyed</td>\n",
       "      <td>Cessna</td>\n",
       "      <td>180</td>\n",
       "      <td>1.0</td>\n",
       "      <td>Reciprocating</td>\n",
       "      <td>4.0</td>\n",
       "      <td>0.0</td>\n",
       "      <td>0.0</td>\n",
       "      <td>0.0</td>\n",
       "      <td>1</td>\n",
       "      <td>1981</td>\n",
       "    </tr>\n",
       "    <tr>\n",
       "      <th>7</th>\n",
       "      <td>United States</td>\n",
       "      <td>1982-01-01</td>\n",
       "      <td>VMC</td>\n",
       "      <td>Takeoff</td>\n",
       "      <td>Non-Fatal</td>\n",
       "      <td>Airplane</td>\n",
       "      <td>Substantial</td>\n",
       "      <td>Cessna</td>\n",
       "      <td>140</td>\n",
       "      <td>1.0</td>\n",
       "      <td>Reciprocating</td>\n",
       "      <td>0.0</td>\n",
       "      <td>0.0</td>\n",
       "      <td>0.0</td>\n",
       "      <td>2.0</td>\n",
       "      <td>1</td>\n",
       "      <td>1982</td>\n",
       "    </tr>\n",
       "    <tr>\n",
       "      <th>8</th>\n",
       "      <td>United States</td>\n",
       "      <td>1982-01-01</td>\n",
       "      <td>IMC</td>\n",
       "      <td>Landing</td>\n",
       "      <td>Non-Fatal</td>\n",
       "      <td>Airplane</td>\n",
       "      <td>Substantial</td>\n",
       "      <td>Cessna</td>\n",
       "      <td>401B</td>\n",
       "      <td>2.0</td>\n",
       "      <td>Reciprocating</td>\n",
       "      <td>0.0</td>\n",
       "      <td>0.0</td>\n",
       "      <td>0.0</td>\n",
       "      <td>2.0</td>\n",
       "      <td>1</td>\n",
       "      <td>1982</td>\n",
       "    </tr>\n",
       "    <tr>\n",
       "      <th>9</th>\n",
       "      <td>United States</td>\n",
       "      <td>1982-01-01</td>\n",
       "      <td>IMC</td>\n",
       "      <td>Cruise</td>\n",
       "      <td>Non-Fatal</td>\n",
       "      <td>unknown</td>\n",
       "      <td>Substantial</td>\n",
       "      <td>North American</td>\n",
       "      <td>NAVION L-17B</td>\n",
       "      <td>1.0</td>\n",
       "      <td>Reciprocating</td>\n",
       "      <td>0.0</td>\n",
       "      <td>0.0</td>\n",
       "      <td>3.0</td>\n",
       "      <td>0.0</td>\n",
       "      <td>1</td>\n",
       "      <td>1982</td>\n",
       "    </tr>\n",
       "    <tr>\n",
       "      <th>10</th>\n",
       "      <td>United States</td>\n",
       "      <td>1982-01-01</td>\n",
       "      <td>VMC</td>\n",
       "      <td>Approach</td>\n",
       "      <td>Non-Fatal</td>\n",
       "      <td>unknown</td>\n",
       "      <td>Substantial</td>\n",
       "      <td>Piper</td>\n",
       "      <td>PA-28-161</td>\n",
       "      <td>1.0</td>\n",
       "      <td>Reciprocating</td>\n",
       "      <td>0.0</td>\n",
       "      <td>0.0</td>\n",
       "      <td>0.0</td>\n",
       "      <td>1.0</td>\n",
       "      <td>1</td>\n",
       "      <td>1982</td>\n",
       "    </tr>\n",
       "  </tbody>\n",
       "</table>\n",
       "</div>"
      ],
      "text/plain": [
       "          Country Event.Date Weather.Condition Broad.phase.of.flight  \\\n",
       "6   United States 1981-08-01               IMC               Unknown   \n",
       "7   United States 1982-01-01               VMC               Takeoff   \n",
       "8   United States 1982-01-01               IMC               Landing   \n",
       "9   United States 1982-01-01               IMC                Cruise   \n",
       "10  United States 1982-01-01               VMC              Approach   \n",
       "\n",
       "   Injury.Severity Aircraft.Category Aircraft.damage            Make  \\\n",
       "6         Fatal(4)           unknown       Destroyed          Cessna   \n",
       "7        Non-Fatal          Airplane     Substantial          Cessna   \n",
       "8        Non-Fatal          Airplane     Substantial          Cessna   \n",
       "9        Non-Fatal           unknown     Substantial  North American   \n",
       "10       Non-Fatal           unknown     Substantial           Piper   \n",
       "\n",
       "           Model  Number.of.Engines    Engine.Type  Total.Fatal.Injuries  \\\n",
       "6            180                1.0  Reciprocating                   4.0   \n",
       "7            140                1.0  Reciprocating                   0.0   \n",
       "8           401B                2.0  Reciprocating                   0.0   \n",
       "9   NAVION L-17B                1.0  Reciprocating                   0.0   \n",
       "10     PA-28-161                1.0  Reciprocating                   0.0   \n",
       "\n",
       "    Total.Serious.Injuries  Total.Minor.Injuries  Total.Uninjured  \\\n",
       "6                      0.0                   0.0              0.0   \n",
       "7                      0.0                   0.0              2.0   \n",
       "8                      0.0                   0.0              2.0   \n",
       "9                      0.0                   3.0              0.0   \n",
       "10                     0.0                   0.0              1.0   \n",
       "\n",
       "    Accident.Number  Year  \n",
       "6                 1  1981  \n",
       "7                 1  1982  \n",
       "8                 1  1982  \n",
       "9                 1  1982  \n",
       "10                1  1982  "
      ]
     },
     "execution_count": 37,
     "metadata": {},
     "output_type": "execute_result"
    }
   ],
   "source": [
    "df1.drop_duplicates().head()"
   ]
  },
  {
   "cell_type": "code",
   "execution_count": 38,
   "id": "e63ede34",
   "metadata": {},
   "outputs": [
    {
     "name": "stdout",
     "output_type": "stream",
     "text": [
      "<class 'pandas.core.frame.DataFrame'>\n",
      "Index: 88883 entries, 6 to 88888\n",
      "Data columns (total 17 columns):\n",
      " #   Column                  Non-Null Count  Dtype         \n",
      "---  ------                  --------------  -----         \n",
      " 0   Country                 88883 non-null  object        \n",
      " 1   Event.Date              88883 non-null  datetime64[ns]\n",
      " 2   Weather.Condition       88883 non-null  object        \n",
      " 3   Broad.phase.of.flight   88883 non-null  object        \n",
      " 4   Injury.Severity         88883 non-null  object        \n",
      " 5   Aircraft.Category       88883 non-null  object        \n",
      " 6   Aircraft.damage         88883 non-null  object        \n",
      " 7   Make                    88883 non-null  object        \n",
      " 8   Model                   88883 non-null  object        \n",
      " 9   Number.of.Engines       88883 non-null  float64       \n",
      " 10  Engine.Type             88883 non-null  object        \n",
      " 11  Total.Fatal.Injuries    88883 non-null  float64       \n",
      " 12  Total.Serious.Injuries  88883 non-null  float64       \n",
      " 13  Total.Minor.Injuries    88883 non-null  float64       \n",
      " 14  Total.Uninjured         88883 non-null  float64       \n",
      " 15  Accident.Number         88883 non-null  int64         \n",
      " 16  Year                    88883 non-null  int32         \n",
      "dtypes: datetime64[ns](1), float64(5), int32(1), int64(1), object(9)\n",
      "memory usage: 11.9+ MB\n"
     ]
    }
   ],
   "source": [
    "df1.info()"
   ]
  },
  {
   "cell_type": "markdown",
   "id": "bfd97fa8",
   "metadata": {},
   "source": [
    "### 1.2.3 saving the new cleaned dataset"
   ]
  },
  {
   "cell_type": "code",
   "execution_count": 39,
   "id": "4d7fbe71",
   "metadata": {},
   "outputs": [],
   "source": [
    "df1.to_csv('cleaned_aviation_data.csv', index=False, encoding='utf-8-sig')"
   ]
  },
  {
   "cell_type": "markdown",
   "id": "9e5c0cf5",
   "metadata": {},
   "source": [
    "# 1.3 Data Visualization"
   ]
  },
  {
   "cell_type": "code",
   "execution_count": 40,
   "id": "30a0d0c8",
   "metadata": {},
   "outputs": [
    {
     "data": {
      "image/png": "[encoded data removed]",
      "text/plain": [
       "<Figure size 640x480 with 1 Axes>"
      ]
     },
     "metadata": {},
     "output_type": "display_data"
    }
   ],
   "source": [
    "# Plotting bar graph using seaborn\n",
    "sns.countplot(data=df1, x='Make', order=df['Make'].value_counts().index[:10]) # Setting top 10 Aircraft\n",
    "plt.xticks(rotation=90)# rotating X-tick by 90 degrees\n",
    "plt.title('Top 10 Aircraft Makes Involved in Accidents')\n",
    "plt.savefig('bargraph1.png', dpi=300, bbox_inches = 'tight') # saving the images\n",
    "plt.show()"
   ]
  },
  {
   "cell_type": "code",
   "execution_count": 42,
   "id": "7db98c56",
   "metadata": {},
   "outputs": [
    {
     "data": {
      "image/png": "[encoded data removed]",
      "text/plain": [
       "<Figure size 1200x600 with 1 Axes>"
      ]
     },
     "metadata": {},
     "output_type": "display_data"
    }
   ],
   "source": [
    "# Plotting line grahs\n",
    "df1['Event.Date'] = pd.to_datetime(df1['Event.Date'], errors='coerce')\n",
    "df1['Year'] = df1['Event.Date'].dt.year\n",
    "value_counts= df1['Year'].value_counts\n",
    "accidents_per_year = df1['Year'].value_counts().sort_index()\n",
    "plt.figure(figsize=(12,6))\n",
    "plt.plot(accidents_per_year.index, accidents_per_year.values, marker='o')\n",
    "plt.title('Aviation Accidents per Year')\n",
    "plt.xlabel('Year')\n",
    "plt.ylabel('Number of Accidents')\n",
    "plt.grid(True)\n",
    "plt.savefig('linegraph.png', dpi=300, bbox_inches = 'tight') #saving the images\n",
    "plt.show()"
   ]
  },
  {
   "cell_type": "code",
   "execution_count": 43,
   "id": "44b7ed59",
   "metadata": {},
   "outputs": [
    {
     "data": {
      "image/png": "[encoded data removed]",
      "text/plain": [
       "<Figure size 800x500 with 1 Axes>"
      ]
     },
     "metadata": {},
     "output_type": "display_data"
    }
   ],
   "source": [
    "#Aircraft Damage vs Number of Accidents\n",
    "plt.figure(figsize=(8, 5))\n",
    "sns.countplot(df1, x='Aircraft.damage', order=df1['Aircraft.damage'].value_counts().index, palette=\"coolwarm\")\n",
    "plt.title('Aircraft Damage vs Number of Accidents')\n",
    "plt.xlabel('Aircraft Damage')\n",
    "plt.ylabel('Number of Cases')\n",
    "plt.tight_layout()\n",
    "plt.savefig('bargraph2.png', dpi=300, bbox_inches = 'tight') # saving the images\n",
    "plt.show()"
   ]
  },
  {
   "cell_type": "code",
   "execution_count": 44,
   "id": "6eef55f3",
   "metadata": {},
   "outputs": [
    {
     "data": {
      "image/png": "[encoded data removed]",
      "text/plain": [
       "<Figure size 1000x600 with 1 Axes>"
      ]
     },
     "metadata": {},
     "output_type": "display_data"
    }
   ],
   "source": [
    "# Weather Condition Impact\n",
    "plt.figure(figsize=(10, 6))\n",
    "sns.countplot(data=df1, x='Weather.Condition', order=df1['Weather.Condition'].value_counts().index, palette=\"Blues\")\n",
    "plt.title('Weather Condition as Accidents occur')\n",
    "plt.xlabel('Weather Condition')\n",
    "plt.ylabel('Number of Accidents')\n",
    "plt.xticks(rotation=45)\n",
    "plt.tight_layout()\n",
    "plt.savefig('bargraph3.png', dpi=300, bbox_inches = 'tight') # saving the images\n",
    "plt.show()"
   ]
  }
 ],
 "metadata": {
  "kernelspec": {
   "display_name": "base",
   "language": "python",
   "name": "python3"
  },
  "language_info": {
   "codemirror_mode": {
    "name": "ipython",
    "version": 3
   },
   "file_extension": ".py",
   "mimetype": "text/x-python",
   "name": "python",
   "nbconvert_exporter": "python",
   "pygments_lexer": "ipython3",
   "version": "3.11.7"
  }
 },
 "nbformat": 4,
 "nbformat_minor": 5
}
